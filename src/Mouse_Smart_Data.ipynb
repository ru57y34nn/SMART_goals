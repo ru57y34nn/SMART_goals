{
 "cells": [
  {
   "cell_type": "code",
   "execution_count": 28,
   "metadata": {},
   "outputs": [],
   "source": [
    "#from speedml import Speedml\n",
    "import csv\n",
    "import pandas as pd\n",
    "import  numpy as np\n",
    "import matplotlib.pyplot as plt\n",
    "from datetime import datetime, date\n",
    "from scipy import stats\n",
    "import math\n",
    "import seaborn as sns\n",
    "from collections import OrderedDict\n",
    "%matplotlib inline\n",
    "import pg8000\n",
    "import sys\n",
    "import os\n",
    "import pathlib2\n",
    "import warnings\n",
    "warnings.filterwarnings('ignore')"
   ]
  },
  {
   "cell_type": "code",
   "execution_count": 72,
   "metadata": {
    "collapsed": true
   },
   "outputs": [],
   "source": [
    "def read_data(path):\n",
    "    df = pd.read_csv(path)\n",
    "    return df"
   ]
  },
  {
   "cell_type": "code",
   "execution_count": 73,
   "metadata": {
    "collapsed": true
   },
   "outputs": [],
   "source": [
    "def trip_mod(x):\n",
    "    trimod = x[(x[\"anno.res_index_label\"] >= 0.75) &(x['anno.res_index_label'] < 1.1) & (x[\"63x_call\"] == \"63x go\")]\n",
    "    return trimod\n",
    "\n",
    "def dub_mod(x):\n",
    "    dubmod = x[(x[\"anno.res_index_label\"] >= 0.75) & (x['anno.res_index_label'] < 1.1) & (x[\"63x_call\"] == \"63x no go\")]\n",
    "    return dubmod\n",
    "\n",
    "def morph_pend(x):\n",
    "    morphpend = x[(x[\"anno.res_index_label\"] >= 0.75) & (x['anno.res_index_label'] < 1.1) & (x[\"63x_call\"] == \"No look\")]\n",
    "    return morphpend\n",
    "\n",
    "def single_mod(x):\n",
    "    singlemod = x[(x[\"anno.res_index_label\"] < 0.75)]\n",
    "    return singlemod\n",
    "\n",
    "def trans_pend(x):\n",
    "    transpend = x[(x[\"anno.res_index_label\"] == 1.1)]\n",
    "    return transpend"
   ]
  },
  {
   "cell_type": "code",
   "execution_count": 74,
   "metadata": {
    "collapsed": true
   },
   "outputs": [],
   "source": [
    "def reclassify(df):\n",
    "    tri = trip_mod(df)\n",
    "    tri['modality class'] = 'Triple Modality'\n",
    "    dub = dub_mod(df)\n",
    "    dub['modality class'] = 'Double Modality'\n",
    "    morph_p = morph_pend(df)\n",
    "    morph_p['modality class'] = 'Pending Morph'\n",
    "    single = single_mod(df)\n",
    "    single['modality class'] = 'EPhys Only'\n",
    "    trans_p = trans_pend(df)\n",
    "    trans_p['modality class'] = 'Pending Trans'\n",
    "    return tri, dub, morph_p, single, trans_p"
   ]
  },
  {
   "cell_type": "code",
   "execution_count": 75,
   "metadata": {
    "collapsed": true
   },
   "outputs": [],
   "source": [
    "def concat_df(a, b, c, d, e):\n",
    "    frames = (a, b, c, d, e)\n",
    "    df = pd.concat(frames)\n",
    "    return df"
   ]
  },
  {
   "cell_type": "code",
   "execution_count": 76,
   "metadata": {
    "collapsed": true
   },
   "outputs": [],
   "source": [
    "def modality_reclass(df):\n",
    "    return concat_df(*reclassify(df))"
   ]
  },
  {
   "cell_type": "markdown",
   "metadata": {},
   "source": [
    "## Modality reclass is dropping some rows"
   ]
  },
  {
   "cell_type": "code",
   "execution_count": 77,
   "metadata": {},
   "outputs": [],
   "source": [
    "def format_table(df):\n",
    "    #convert dates to datetime object\n",
    "    df['recording_date'] = pd.to_datetime(df['recording_date'], format='%Y-%m-%d')\n",
    "    df['63x_call'].fillna(\"No look\", inplace=True)\n",
    "    #setting NaN res_index values to 1.1 for classification as pending_trans\n",
    "    df['anno.res_index_label'].fillna(1.1, inplace=True)\n",
    "    df = modality_reclass(df)\n",
    "    return df"
   ]
  },
  {
   "cell_type": "code",
   "execution_count": 90,
   "metadata": {},
   "outputs": [],
   "source": [
    "def pivot_table(df):\n",
    "    df = df[['recording_date', 'modality class', 'cell_name']]\n",
    "    df = df.groupby(['recording_date', 'modality class']).agg(['count'])\n",
    "    df = df.reset_index()\n",
    "    df = df.set_index(['recording_date', 'modality class']).unstack(level=-1).fillna(0).cumsum()\n",
    "    return df"
   ]
  },
  {
   "cell_type": "code",
   "execution_count": 79,
   "metadata": {},
   "outputs": [],
   "source": [
    "def list_dates(df):\n",
    "    dates = sorted(tuple(df.index.unique()))\n",
    "    return dates"
   ]
  },
  {
   "cell_type": "code",
   "execution_count": 91,
   "metadata": {},
   "outputs": [],
   "source": [
    "def list_outcomes(df):\n",
    "    triple_mod = tuple(df['cell_name', 'count', 'Triple Modality'])\n",
    "    double_mod = tuple(df['cell_name', 'count', 'Double Modality'])\n",
    "    ephys_only = tuple(df['cell_name', 'count', 'EPhys Only'])\n",
    "    pending_morph = tuple(df['cell_name', 'count', 'Pending Morph'])\n",
    "    pending_trans = tuple(df['cell_name', 'count', 'Pending Trans'])\n",
    "    return triple_mod, double_mod, ephys_only, pending_morph, pending_trans"
   ]
  },
  {
   "cell_type": "code",
   "execution_count": 81,
   "metadata": {},
   "outputs": [],
   "source": [
    "def get_current_date(df):\n",
    "    current_date = pd.to_datetime(list_dates(df)[-1])\n",
    "    return current_date"
   ]
  },
  {
   "cell_type": "code",
   "execution_count": 82,
   "metadata": {},
   "outputs": [],
   "source": [
    "def get_current_total(df):\n",
    "    total_trip, total_dub, total_ephys, total_morph_pend, total_trans_pend = list_outcomes(df)\n",
    "    totals = total_trip[-1] + total_dub[-1] + total_ephys[-1] + total_morph_pend[-1] + total_trans_pend[-1]\n",
    "    #total = triple_mod[-1] + double_mod[-1] + ephys_only[-1] + pending_morph[-1] + pending_trans[-1]\n",
    "    return totals"
   ]
  },
  {
   "cell_type": "code",
   "execution_count": 83,
   "metadata": {},
   "outputs": [],
   "source": [
    "def get_current_goal(df):\n",
    "    d0 = pd.to_datetime(list_dates(df)[0])\n",
    "    d1 = get_current_date(df)\n",
    "    total2_today = (d1 - d0).days\n",
    "    total2_today\n",
    "    current_goal = 3500/float(271)*total2_today\n",
    "    return current_goal"
   ]
  },
  {
   "cell_type": "code",
   "execution_count": 84,
   "metadata": {
    "collapsed": true
   },
   "outputs": [],
   "source": [
    "def get_goal_delta(df):\n",
    "    diff = get_current_total(df) - get_current_goal(df)\n",
    "    return diff"
   ]
  },
  {
   "cell_type": "code",
   "execution_count": 143,
   "metadata": {},
   "outputs": [],
   "source": [
    "def make_plot(df):\n",
    "\n",
    "    x = list_dates(df) \n",
    "    y = list(list_outcomes(df))\n",
    "\n",
    "    labels = [\"Triple Modality\", \"Double Modality\", \"EPhys Only\", \"Pending Morph\", \"Pending Trans\"]\n",
    "    fig, ax = plt.subplots()\n",
    "    plt.xticks(rotation=45, ha='right', size=7)\n",
    "    plt.yticks(size=7)\n",
    "    progress = ax.stackplot(x, y, labels = labels)\n",
    "    goal_line = ax.plot([0,1], [0,1], color='g', transform=ax.transAxes)\n",
    "    legend = ax.legend(loc=2, prop = {'size':7}, frameon=False)\n",
    "    #plt.gcf().autofmt_xdate()\n",
    "    \n",
    "    ax.spines['right'].set_visible(False)\n",
    "    ax.spines['top'].set_visible(False)\n",
    "    ax.set_xlim(['2018-01-02', '2018-09-30'])\n",
    "    ax.set_ylim([0, 3500])\n",
    "    ax.vlines(x='2018-09-30', ymin=0, ymax=3500, color='r')\n",
    "    \n",
    "    plt.title(\"2018 Mouse SMART Goal Progress\", size=10)\n",
    "    plt.ylabel('Patched Cells', size=10)\n",
    "    plt.xlabel('Date', size=10)\n",
    "    plt.text('2018-10-05', '3500', \"{}\".format(\"3500 cell goal\"), size=7)\n",
    "    plt.text(get_current_date(df), get_current_total(df), \"{}\".format(int(get_goal_delta(df))), size=7)\n",
    "    #plt.text('2018-10-05', '700', \"{}\".format(\"20% triple modality goal\"))\n",
    "    plt.text('2018-09-30', '-200', \"{}\".format(\"Deadline - 2018-09-30\"), rotation=45, ha='right', size=7)\n",
    "    fig.tight_layout()\n",
    "    plt.savefig('../figures/Mouse_SMART_Goal_2018_Progress', dpi=300, bbox_inches=\"tight\")"
   ]
  },
  {
   "cell_type": "code",
   "execution_count": 144,
   "metadata": {},
   "outputs": [
    {
     "data": {
      "image/png": "[encoded data removed]",
      "text/plain": [
       "<matplotlib.figure.Figure at 0x12512c50>"
      ]
     },
     "metadata": {},
     "output_type": "display_data"
    }
   ],
   "source": [
    "if __name__ == \"__main__\":\n",
    "    data = read_data(\"../data/mouse_smart_data.csv\")\n",
    "    formatted_data = format_table(data)\n",
    "    pivoted_data = pivot_table(formatted_data)\n",
    "    plot = make_plot(pivoted_data)"
   ]
  },
  {
   "cell_type": "code",
   "execution_count": null,
   "metadata": {},
   "outputs": [],
   "source": []
  },
  {
   "cell_type": "code",
   "execution_count": null,
   "metadata": {},
   "outputs": [],
   "source": []
  },
  {
   "cell_type": "code",
   "execution_count": null,
   "metadata": {},
   "outputs": [],
   "source": []
  },
  {
   "cell_type": "code",
   "execution_count": null,
   "metadata": {
    "collapsed": true
   },
   "outputs": [],
   "source": []
  },
  {
   "cell_type": "code",
   "execution_count": null,
   "metadata": {
    "collapsed": true
   },
   "outputs": [],
   "source": []
  },
  {
   "cell_type": "code",
   "execution_count": null,
   "metadata": {
    "collapsed": true
   },
   "outputs": [],
   "source": []
  },
  {
   "cell_type": "code",
   "execution_count": null,
   "metadata": {
    "collapsed": true
   },
   "outputs": [],
   "source": []
  },
  {
   "cell_type": "code",
   "execution_count": null,
   "metadata": {
    "collapsed": true
   },
   "outputs": [],
   "source": []
  },
  {
   "cell_type": "code",
   "execution_count": null,
   "metadata": {
    "collapsed": true
   },
   "outputs": [],
   "source": []
  },
  {
   "cell_type": "code",
   "execution_count": null,
   "metadata": {
    "collapsed": true
   },
   "outputs": [],
   "source": []
  },
  {
   "cell_type": "code",
   "execution_count": null,
   "metadata": {
    "collapsed": true
   },
   "outputs": [],
   "source": []
  },
  {
   "cell_type": "code",
   "execution_count": null,
   "metadata": {
    "collapsed": true
   },
   "outputs": [],
   "source": []
  },
  {
   "cell_type": "code",
   "execution_count": null,
   "metadata": {
    "collapsed": true
   },
   "outputs": [],
   "source": []
  },
  {
   "cell_type": "code",
   "execution_count": null,
   "metadata": {
    "collapsed": true
   },
   "outputs": [],
   "source": []
  },
  {
   "cell_type": "code",
   "execution_count": null,
   "metadata": {
    "collapsed": true
   },
   "outputs": [],
   "source": []
  },
  {
   "cell_type": "code",
   "execution_count": null,
   "metadata": {},
   "outputs": [],
   "source": []
  },
  {
   "cell_type": "code",
   "execution_count": null,
   "metadata": {
    "collapsed": true
   },
   "outputs": [],
   "source": []
  },
  {
   "cell_type": "code",
   "execution_count": null,
   "metadata": {
    "collapsed": true
   },
   "outputs": [],
   "source": []
  },
  {
   "cell_type": "code",
   "execution_count": null,
   "metadata": {
    "collapsed": true
   },
   "outputs": [],
   "source": []
  }
 ],
 "metadata": {
  "kernelspec": {
   "display_name": "Python 2",
   "language": "python",
   "name": "python2"
  },
  "language_info": {
   "codemirror_mode": {
    "name": "ipython",
    "version": 2
   },
   "file_extension": ".py",
   "mimetype": "text/x-python",
   "name": "python",
   "nbconvert_exporter": "python",
   "pygments_lexer": "ipython2",
   "version": "2.7.13"
  }
 },
 "nbformat": 4,
 "nbformat_minor": 2
}
