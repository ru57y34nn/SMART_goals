{
 "cells": [
  {
   "cell_type": "code",
   "execution_count": 2,
   "metadata": {},
   "outputs": [
    {
     "name": "stdout",
     "output_type": "stream",
     "text": [
      "Pixiedust will not collect anonymous install statistics.\n"
     ]
    }
   ],
   "source": [
    "import csv\n",
    "import pandas as pd\n",
    "#import pg8000\n",
    "import sys\n",
    "import os\n",
    "import pathlib2\n",
    "import lims_sql_query as lsq\n",
    "from speedml import Speedml\n",
    "import pixiedust\n",
    "pixiedust.optOut()\n",
    "%matplotlib inline"
   ]
  },
  {
   "cell_type": "code",
   "execution_count": 21,
   "metadata": {},
   "outputs": [],
   "source": [
    "home = pathlib2.Path.home()\n",
    "sml = Speedml('C:/Users/dijonh/Documents/GitHub/SMART_goals/data/mouse_smart_data.csv', \n",
    "              'C:/Users/dijonh/Documents/GitHub/SMART_goals/data/human_anno_table.csv', target = None, uid = None)\n"
   ]
  },
  {
   "cell_type": "code",
   "execution_count": 23,
   "metadata": {},
   "outputs": [
    {
     "data": {
      "text/html": [
       "<div>\n",
       "<style scoped>\n",
       "    .dataframe tbody tr th:only-of-type {\n",
       "        vertical-align: middle;\n",
       "    }\n",
       "\n",
       "    .dataframe tbody tr th {\n",
       "        vertical-align: top;\n",
       "    }\n",
       "\n",
       "    .dataframe thead th {\n",
       "        text-align: right;\n",
       "    }\n",
       "</style>\n",
       "<table border=\"1\" class=\"dataframe\">\n",
       "  <thead>\n",
       "    <tr style=\"text-align: right;\">\n",
       "      <th></th>\n",
       "      <th>Unnamed: 0</th>\n",
       "      <th>anno.res_index_label</th>\n",
       "      <th>patched_cell_container</th>\n",
       "      <th>name</th>\n",
       "      <th>recording_date</th>\n",
       "      <th>63x_call</th>\n",
       "    </tr>\n",
       "  </thead>\n",
       "  <tbody>\n",
       "    <tr>\n",
       "      <th>0</th>\n",
       "      <td>0</td>\n",
       "      <td>1.000000</td>\n",
       "      <td>P8S4_180102_351_A01</td>\n",
       "      <td>Chat-IRES-Cre-neo;Ai14-365769.04.02.01</td>\n",
       "      <td>2018-01-02 21:34:44.000</td>\n",
       "      <td>63x go</td>\n",
       "    </tr>\n",
       "    <tr>\n",
       "      <th>1</th>\n",
       "      <td>1</td>\n",
       "      <td>0.000000</td>\n",
       "      <td>P8S4_180102_352_A01</td>\n",
       "      <td>Chat-IRES-Cre-neo;Ai14-365769.04.02.02</td>\n",
       "      <td>2018-01-02 21:56:41.000</td>\n",
       "      <td>NaN</td>\n",
       "    </tr>\n",
       "    <tr>\n",
       "      <th>2</th>\n",
       "      <td>2</td>\n",
       "      <td>0.745543</td>\n",
       "      <td>P8S4_180102_353_A01</td>\n",
       "      <td>Chat-IRES-Cre-neo;Ai14-365769.05.02.01</td>\n",
       "      <td>2018-01-02 22:49:10.000</td>\n",
       "      <td>NaN</td>\n",
       "    </tr>\n",
       "    <tr>\n",
       "      <th>3</th>\n",
       "      <td>3</td>\n",
       "      <td>0.880454</td>\n",
       "      <td>P9S4_180102_401_A01</td>\n",
       "      <td>Pdyn-T2A-CreERT2;Ai14-366659.04.01.01</td>\n",
       "      <td>2018-01-02 21:08:13.000</td>\n",
       "      <td>63x go</td>\n",
       "    </tr>\n",
       "    <tr>\n",
       "      <th>4</th>\n",
       "      <td>4</td>\n",
       "      <td>1.000000</td>\n",
       "      <td>P9S4_180102_402_A01</td>\n",
       "      <td>Chat-IRES-Cre-neo;Ai14-365769.03.01.01</td>\n",
       "      <td>2018-01-02 21:48:56.000</td>\n",
       "      <td>63x no go</td>\n",
       "    </tr>\n",
       "  </tbody>\n",
       "</table>\n",
       "</div>"
      ],
      "text/plain": [
       "   Unnamed: 0  anno.res_index_label patched_cell_container  \\\n",
       "0           0              1.000000    P8S4_180102_351_A01   \n",
       "1           1              0.000000    P8S4_180102_352_A01   \n",
       "2           2              0.745543    P8S4_180102_353_A01   \n",
       "3           3              0.880454    P9S4_180102_401_A01   \n",
       "4           4              1.000000    P9S4_180102_402_A01   \n",
       "\n",
       "                                     name           recording_date   63x_call  \n",
       "0  Chat-IRES-Cre-neo;Ai14-365769.04.02.01  2018-01-02 21:34:44.000     63x go  \n",
       "1  Chat-IRES-Cre-neo;Ai14-365769.04.02.02  2018-01-02 21:56:41.000        NaN  \n",
       "2  Chat-IRES-Cre-neo;Ai14-365769.05.02.01  2018-01-02 22:49:10.000        NaN  \n",
       "3   Pdyn-T2A-CreERT2;Ai14-366659.04.01.01  2018-01-02 21:08:13.000     63x go  \n",
       "4  Chat-IRES-Cre-neo;Ai14-365769.03.01.01  2018-01-02 21:48:56.000  63x no go  "
      ]
     },
     "execution_count": 23,
     "metadata": {},
     "output_type": "execute_result"
    }
   ],
   "source": [
    "sml.train.head()"
   ]
  },
  {
   "cell_type": "code",
   "execution_count": 25,
   "metadata": {},
   "outputs": [
    {
     "data": {
      "text/plain": [
       "u'Dropped 1 features with 5 features available.'"
      ]
     },
     "execution_count": 25,
     "metadata": {},
     "output_type": "execute_result"
    }
   ],
   "source": [
    "sml.feature.drop(['Unnamed: 0'])"
   ]
  },
  {
   "cell_type": "code",
   "execution_count": 26,
   "metadata": {},
   "outputs": [
    {
     "data": {
      "text/html": [
       "<div>\n",
       "<style scoped>\n",
       "    .dataframe tbody tr th:only-of-type {\n",
       "        vertical-align: middle;\n",
       "    }\n",
       "\n",
       "    .dataframe tbody tr th {\n",
       "        vertical-align: top;\n",
       "    }\n",
       "\n",
       "    .dataframe thead th {\n",
       "        text-align: right;\n",
       "    }\n",
       "</style>\n",
       "<table border=\"1\" class=\"dataframe\">\n",
       "  <thead>\n",
       "    <tr style=\"text-align: right;\">\n",
       "      <th></th>\n",
       "      <th>anno.res_index_label</th>\n",
       "      <th>patched_cell_container</th>\n",
       "      <th>name</th>\n",
       "      <th>recording_date</th>\n",
       "      <th>63x_call</th>\n",
       "    </tr>\n",
       "  </thead>\n",
       "  <tbody>\n",
       "    <tr>\n",
       "      <th>0</th>\n",
       "      <td>1.000000</td>\n",
       "      <td>P8S4_180102_351_A01</td>\n",
       "      <td>Chat-IRES-Cre-neo;Ai14-365769.04.02.01</td>\n",
       "      <td>2018-01-02 21:34:44.000</td>\n",
       "      <td>63x go</td>\n",
       "    </tr>\n",
       "    <tr>\n",
       "      <th>1</th>\n",
       "      <td>0.000000</td>\n",
       "      <td>P8S4_180102_352_A01</td>\n",
       "      <td>Chat-IRES-Cre-neo;Ai14-365769.04.02.02</td>\n",
       "      <td>2018-01-02 21:56:41.000</td>\n",
       "      <td>NaN</td>\n",
       "    </tr>\n",
       "    <tr>\n",
       "      <th>2</th>\n",
       "      <td>0.745543</td>\n",
       "      <td>P8S4_180102_353_A01</td>\n",
       "      <td>Chat-IRES-Cre-neo;Ai14-365769.05.02.01</td>\n",
       "      <td>2018-01-02 22:49:10.000</td>\n",
       "      <td>NaN</td>\n",
       "    </tr>\n",
       "    <tr>\n",
       "      <th>3</th>\n",
       "      <td>0.880454</td>\n",
       "      <td>P9S4_180102_401_A01</td>\n",
       "      <td>Pdyn-T2A-CreERT2;Ai14-366659.04.01.01</td>\n",
       "      <td>2018-01-02 21:08:13.000</td>\n",
       "      <td>63x go</td>\n",
       "    </tr>\n",
       "    <tr>\n",
       "      <th>4</th>\n",
       "      <td>1.000000</td>\n",
       "      <td>P9S4_180102_402_A01</td>\n",
       "      <td>Chat-IRES-Cre-neo;Ai14-365769.03.01.01</td>\n",
       "      <td>2018-01-02 21:48:56.000</td>\n",
       "      <td>63x no go</td>\n",
       "    </tr>\n",
       "  </tbody>\n",
       "</table>\n",
       "</div>"
      ],
      "text/plain": [
       "   anno.res_index_label patched_cell_container  \\\n",
       "0              1.000000    P8S4_180102_351_A01   \n",
       "1              0.000000    P8S4_180102_352_A01   \n",
       "2              0.745543    P8S4_180102_353_A01   \n",
       "3              0.880454    P9S4_180102_401_A01   \n",
       "4              1.000000    P9S4_180102_402_A01   \n",
       "\n",
       "                                     name           recording_date   63x_call  \n",
       "0  Chat-IRES-Cre-neo;Ai14-365769.04.02.01  2018-01-02 21:34:44.000     63x go  \n",
       "1  Chat-IRES-Cre-neo;Ai14-365769.04.02.02  2018-01-02 21:56:41.000        NaN  \n",
       "2  Chat-IRES-Cre-neo;Ai14-365769.05.02.01  2018-01-02 22:49:10.000        NaN  \n",
       "3   Pdyn-T2A-CreERT2;Ai14-366659.04.01.01  2018-01-02 21:08:13.000     63x go  \n",
       "4  Chat-IRES-Cre-neo;Ai14-365769.03.01.01  2018-01-02 21:48:56.000  63x no go  "
      ]
     },
     "execution_count": 26,
     "metadata": {},
     "output_type": "execute_result"
    }
   ],
   "source": [
    "sml.train.head()"
   ]
  },
  {
   "cell_type": "code",
   "execution_count": null,
   "metadata": {},
   "outputs": [],
   "source": []
  }
 ],
 "metadata": {
  "kernelspec": {
   "display_name": "Python 2",
   "language": "python",
   "name": "python2"
  },
  "language_info": {
   "codemirror_mode": {
    "name": "ipython",
    "version": 2
   },
   "file_extension": ".py",
   "mimetype": "text/x-python",
   "name": "python",
   "nbconvert_exporter": "python",
   "pygments_lexer": "ipython2",
   "version": "2.7.13"
  }
 },
 "nbformat": 4,
 "nbformat_minor": 2
}
