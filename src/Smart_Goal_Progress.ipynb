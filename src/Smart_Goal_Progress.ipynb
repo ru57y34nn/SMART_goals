{
 "cells": [
  {
   "cell_type": "code",
   "execution_count": 1,
   "metadata": {
    "collapsed": true
   },
   "outputs": [],
   "source": [
    "#from speedml import Speedml\n",
    "import csv\n",
    "import pandas as pd\n",
    "import  numpy as np\n",
    "import matplotlib.pyplot as plt\n",
    "from datetime import datetime, date\n",
    "from scipy import stats\n",
    "import math\n",
    "import seaborn as sns\n",
    "from collections import OrderedDict\n",
    "%matplotlib inline\n",
    "import pg8000\n",
    "import sys\n",
    "import os\n",
    "import pathlib2\n",
    "import warnings\n",
    "warnings.filterwarnings('ignore')\n",
    "import mouse_primaryfamily_dict as mpfd\n",
    "import data_modality_funcs as dmf"
   ]
  },
  {
   "cell_type": "code",
   "execution_count": 2,
   "metadata": {
    "collapsed": true
   },
   "outputs": [],
   "source": [
    "#Global variables\n",
    "mouse_deadline = datetime.strptime('2018-09-30', \"%Y-%m-%d\")\n",
    "human_deadline = datetime.strptime('2018-05-15', \"%Y-%m-%d\")\n",
    "mouse_goal = 3500\n",
    "human_goal = 400"
   ]
  },
  {
   "cell_type": "code",
   "execution_count": 3,
   "metadata": {
    "collapsed": true
   },
   "outputs": [],
   "source": [
    "def read_data(path):\n",
    "    df = pd.read_csv(path)\n",
    "    return df"
   ]
  },
  {
   "cell_type": "code",
   "execution_count": 4,
   "metadata": {
    "collapsed": true
   },
   "outputs": [],
   "source": [
    "def format_table(df):\n",
    "    #convert dates to datetime object\n",
    "    df['recording_date'] = pd.to_datetime(df['recording_date'], format='%Y-%m-%d')\n",
    "    df['63x_call'].fillna(\"No look\", inplace=True)\n",
    "    #setting NaN res_index values to 1.1 for classification as pending_trans\n",
    "    df['anno.res_index_label'].fillna(1.1, inplace=True)\n",
    "    df = dmf.modality_reclass(df)\n",
    "    return df"
   ]
  },
  {
   "cell_type": "code",
   "execution_count": 5,
   "metadata": {
    "collapsed": true
   },
   "outputs": [],
   "source": [
    "def pivot_table(df):\n",
    "    df = df[['recording_date', 'modality class', 'cell_name']]\n",
    "    df = df.groupby(['recording_date', 'modality class']).agg(['count'])\n",
    "    df = df.reset_index()\n",
    "    df = df.set_index(['recording_date', 'modality class']).unstack(level=-1).fillna(0).cumsum()\n",
    "    return df"
   ]
  },
  {
   "cell_type": "code",
   "execution_count": 6,
   "metadata": {
    "collapsed": true
   },
   "outputs": [],
   "source": [
    "def list_dates(df):\n",
    "    dates = sorted(tuple(df.index.unique()))\n",
    "    return dates"
   ]
  },
  {
   "cell_type": "code",
   "execution_count": 7,
   "metadata": {
    "collapsed": true
   },
   "outputs": [],
   "source": [
    "def list_outcomes(df):\n",
    "    triple_mod = tuple(df['cell_name', 'count', 'Triple Modality'])\n",
    "    double_mod = tuple(df['cell_name', 'count', 'Double Modality'])\n",
    "    ephys_only = tuple(df['cell_name', 'count', 'EPhys Only'])\n",
    "    pending_morph = tuple(df['cell_name', 'count', 'Pending Morph'])\n",
    "    pending_trans = tuple(df['cell_name', 'count', 'Pending Trans'])\n",
    "    return triple_mod, double_mod, ephys_only, pending_trans, pending_morph"
   ]
  },
  {
   "cell_type": "code",
   "execution_count": 8,
   "metadata": {
    "collapsed": true
   },
   "outputs": [],
   "source": [
    "def get_current_date(df):\n",
    "    current_date = pd.to_datetime(list_dates(df)[-1])\n",
    "    return current_date"
   ]
  },
  {
   "cell_type": "code",
   "execution_count": 9,
   "metadata": {
    "collapsed": true
   },
   "outputs": [],
   "source": [
    "def get_current_total(df):\n",
    "    total_trip, total_dub, total_ephys, total_morph_pend, total_trans_pend = list_outcomes(df)\n",
    "    totals = total_trip[-1] + total_dub[-1] + total_ephys[-1] + total_morph_pend[-1] + total_trans_pend[-1]\n",
    "    #total = triple_mod[-1] + double_mod[-1] + ephys_only[-1] + pending_morph[-1] + pending_trans[-1]\n",
    "    return totals"
   ]
  },
  {
   "cell_type": "code",
   "execution_count": 10,
   "metadata": {
    "collapsed": true
   },
   "outputs": [],
   "source": [
    "def get_current_goal(df, species):\n",
    "    d0 = pd.to_datetime(list_dates(df)[0])\n",
    "    d1 = get_current_date(df)\n",
    "    d2_mouse = mouse_deadline\n",
    "    d2_human = human_deadline\n",
    "    total_mouse_days = (d2_mouse - d0).days\n",
    "    total_human_days = (d2_human - d0).days\n",
    "    total2_today = (d1 - d0).days\n",
    "    if species == 'mouse':\n",
    "        current_goal = (mouse_goal/float(total_mouse_days))*total2_today\n",
    "    else:\n",
    "        if species == 'human':\n",
    "            current_goal = (human_goal/float(total_human_days))*total2_today\n",
    "    return current_goal"
   ]
  },
  {
   "cell_type": "code",
   "execution_count": 11,
   "metadata": {
    "collapsed": true
   },
   "outputs": [],
   "source": [
    "def get_goal_delta(df, species):\n",
    "    if species == 'mouse':\n",
    "        diff = get_current_total(df) - get_current_goal(df, 'mouse')\n",
    "    else:\n",
    "        if species == 'human':\n",
    "            diff = get_current_total(df) - get_current_goal(df, 'human')\n",
    "    return diff"
   ]
  },
  {
   "cell_type": "code",
   "execution_count": 12,
   "metadata": {
    "collapsed": true
   },
   "outputs": [],
   "source": [
    "def valid_input(prompt_text, invalid_response, valid_options=None):\n",
    "    while True:\n",
    "        result = raw_input(prompt_text)\n",
    "        if (valid_options) and (result not in valid_options):\n",
    "            print invalid_response\n",
    "            continue\n",
    "        else:\n",
    "            break\n",
    "    return result"
   ]
  },
  {
   "cell_type": "code",
   "execution_count": 13,
   "metadata": {
    "collapsed": true
   },
   "outputs": [],
   "source": [
    "#May need to either make a class to inherit from for plotting mouse and human or rename this \"make_mouse_plot\"\n",
    "#and make another function called \"make_human_plot\".\n",
    "def make_mouse_plot(df):\n",
    "\n",
    "    x = list_dates(df) \n",
    "    y = list(list_outcomes(df))\n",
    "    deadline = mouse_deadline\n",
    "    \n",
    "    colors = [\"#08519c\", \"#3182bd\", \"#6baed6\", \"#969696\", \"#636363\"]\n",
    "    labels = [\"Triple Modality\", \"Double Modality\", \"EPhys Only\", \"Pending Trans\", \"Pending Morph\"]\n",
    "    fig, ax = plt.subplots()\n",
    "    plt.xticks(rotation=45, ha='right', size=7)\n",
    "    plt.yticks(size=7)\n",
    "    progress = ax.stackplot(x, y, labels = labels, colors=colors)\n",
    "    goal_line = ax.plot([0,1], [0,1], color='g', transform=ax.transAxes)\n",
    "    legend = ax.legend(loc=(0.05,0.9), prop = {'size':7}, frameon=False, labelspacing=-2.5)\n",
    "    #plt.gcf().autofmt_xdate()\n",
    "    \n",
    "    ax.spines['right'].set_visible(False)\n",
    "    ax.spines['top'].set_visible(False)\n",
    "    ax.set_xlim(['2018-01-02', '2018-09-30'])\n",
    "    ax.set_ylim([0, 3500])\n",
    "    ax.vlines(x='2018-09-30', ymin=0, ymax=mouse_goal, color='r')\n",
    "    \n",
    "    plt.title(\"2018 Mouse SMART Goal Progress\", size=10)\n",
    "    plt.ylabel('Patched Cells', size=10)\n",
    "    plt.xlabel('Date', size=10)\n",
    "    plt.text('2018-10-05', '3500', \"{}\".format(\"3500 cell goal\"), size=7)\n",
    "    plt.text(get_current_date(df), get_current_total(df), \"{}\".format(int(get_goal_delta(df, \"mouse\"))), size=7)\n",
    "    \n",
    "    if get_current_date(df) > deadline:\n",
    "        plt.text(deadline, get_current_total(df), \"{}\".format(int(get_goal_delta(df, \"mouse\"))), size=7)\n",
    "    else:\n",
    "        if deadline > get_current_date(df):\n",
    "            plt.text(get_current_date(df), get_current_total(df), \"{}\".format(int(get_goal_delta(df, \"mouse\"))), size=7)\n",
    "    #plt.text('2018-10-05', '700', \"{}\".format(\"20% triple modality goal\"))\n",
    "    plt.text('2018-09-30', '-200', \"{}\".format(\"Deadline - 2018-09-30\"), rotation=45, ha='right', size=7)\n",
    "    fig.tight_layout()\n",
    "    plt.savefig('../figures/Mouse_SMART_Goal_2018_Progress', dpi=300, bbox_inches=\"tight\")"
   ]
  },
  {
   "cell_type": "code",
   "execution_count": 14,
   "metadata": {
    "collapsed": true
   },
   "outputs": [],
   "source": [
    "def mouse_pie_plot(df):\n",
    "    df['family'] = df['drivers'].map(mpfd.make_dict())\n",
    "    df = df[['drivers','family']]\n",
    "    df = df.groupby(['family']).count().reset_index()\n",
    "    \n",
    "    slices = df['drivers']\n",
    "    labels = df['family']\n",
    "\n",
    "    slices = sorted(slices)\n",
    "\n",
    "    fig = plt.figure(figsize=[10, 10])\n",
    "    ax = fig.add_subplot(111)\n",
    "\n",
    "    #cmap = plt.cm.prism\n",
    "    cmap = plt.cm.Blues\n",
    "    colors = cmap(np.linspace(0., 1., len(slices)))\n",
    "\n",
    "    ax.pie(slices, colors=colors, labels=labels, pctdistance=0.85, labeldistance=1.1, autopct='%1.1f%%')\n",
    "\n",
    "    plt.title('Mouse Primary Families')\n",
    "    #plt.tight_layout()\n",
    "    plt.savefig('../figures/mouse_pie', dpi=300, bbox_inches=\"tight\")"
   ]
  },
  {
   "cell_type": "code",
   "execution_count": 15,
   "metadata": {
    "collapsed": true
   },
   "outputs": [],
   "source": [
    "def make_human_plot(df):\n",
    "\n",
    "    x = list_dates(df) \n",
    "    y = list(list_outcomes(df))\n",
    "    deadline = human_deadline\n",
    "    \n",
    "    colors = [\"#08519c\", \"#3182bd\", \"#6baed6\", \"#969696\", \"#636363\"]\n",
    "    labels = [\"Triple Modality\", \"Double Modality\", \"EPhys Only\", \"Pending Trans\", \"Pending Morph\"]\n",
    "    fig, ax = plt.subplots()\n",
    "    plt.xticks(rotation=45, ha='right', size=7)\n",
    "    plt.yticks(size=7)\n",
    "    progress = ax.stackplot(x, y, labels = labels, colors=colors)\n",
    "    goal_line = ax.plot([0,1], [0,1], color='g', transform=ax.transAxes)\n",
    "    legend = ax.legend(loc=(0.05,0.9), prop = {'size':7}, frameon=False, labelspacing=-2.5)\n",
    "    #plt.gcf().autofmt_xdate()\n",
    "    \n",
    "    ax.spines['right'].set_visible(False)\n",
    "    ax.spines['top'].set_visible(False)\n",
    "    ax.set_xlim(['2018-01-02', '2018-05-15'])\n",
    "    ax.set_ylim([0, 400])\n",
    "    ax.vlines(x='2018-05-15', ymin=0, ymax=human_goal, color='r')\n",
    "    \n",
    "    plt.title(\"2018 Human SMART Goal Progress\", size=10)\n",
    "    plt.ylabel('Patched Cells', size=10)\n",
    "    plt.xlabel('Date', size=10)\n",
    "    plt.text('2018-05-15', '400', \"{}\".format(\"400 cell goal\"), size=7)\n",
    "    \n",
    "    if get_current_date(df) > deadline:\n",
    "        plt.text(deadline, get_current_total(df), \"{}\".format(int(get_goal_delta(df, \"human\"))), size=7)\n",
    "    else:\n",
    "        if deadline > get_current_date(df):\n",
    "            plt.text(get_current_date(df), get_current_total(df), \"{}\".format(int(get_goal_delta(df, \"human\"))), size=7)\n",
    "    #plt.text('2018-10-05', '700', \"{}\".format(\"20% triple modality goal\"))\n",
    "    #plt.text('2018-05-15', '-30', \"{}\".format(\"Deadline - 2018-05-15\"), rotation=45, ha='right', size=7)\n",
    "    fig.tight_layout()\n",
    "    plt.savefig('../figures/Human_SMART_Goal_2018_Progress', dpi=300, bbox_inches=\"tight\")"
   ]
  },
  {
   "cell_type": "code",
   "execution_count": 16,
   "metadata": {
    "collapsed": true
   },
   "outputs": [],
   "source": [
    "def human_pie_plot(df):\n",
    "    df['layer'].fillna(0, inplace=True)\n",
    "    df['layer'] = df['layer'].astype(int)\n",
    "    df = df.rename(columns = {'recording_date':'count'})\n",
    "    df = df[['layer', 'count']]\n",
    "    df = df.groupby(['layer']).count().reset_index()\n",
    "    \n",
    "    colors = ['#636363', '#084594', '#2171b5', '#4292c6', '#6baed6', '#9ecae1', '#c6dbef']\n",
    "    labels = ['N/A', '1', '2', '3', '4', '5', '6']\n",
    "\n",
    "    ax1 = df.plot(kind = 'pie', y='count', labels=labels, autopct='%1.1f%%', pctdistance=0.85, labeldistance=1.1, legend=False,\n",
    "                  title = 'Human Tissue Layer Patch', colors = colors, startangle = -60)\n",
    "    plt.axes().set_ylabel('')\n",
    "\n",
    "    ax1.axis('equal')\n",
    "    plt.tight_layout()\n",
    "    plt.savefig('../figures/Human_tissue_layer', dpi=300, bbox_inches=\"tight\")"
   ]
  },
  {
   "cell_type": "code",
   "execution_count": 18,
   "metadata": {},
   "outputs": [
    {
     "name": "stdout",
     "output_type": "stream",
     "text": [
      "would you like to report on mouse (m) or human (h) smart goal data?:h\n"
     ]
    },
    {
     "data": {
      "image/png": "[encoded data removed]",
      "text/plain": [
       "<matplotlib.figure.Figure at 0xbc92048>"
      ]
     },
     "metadata": {},
     "output_type": "display_data"
    },
    {
     "data": {
      "image/png": "[encoded data removed]",
      "text/plain": [
       "<matplotlib.figure.Figure at 0xc00ce10>"
      ]
     },
     "metadata": {},
     "output_type": "display_data"
    }
   ],
   "source": [
    "if __name__ == \"__main__\":\n",
    "    \n",
    "    str_prompt = \"\\nWould you like to report on mouse (m) or human (h) SMART goal data?: \".strip().lower()\n",
    "    valid_vals = ['m', 'h']\n",
    "    response = \"\\n{} is not a valid response, please enter either 'm' or 'h'\".format(str_prompt)\n",
    "    \n",
    "    species = valid_input(str_prompt, response, valid_vals)\n",
    "    \n",
    "    if species == 'm':\n",
    "        data = read_data(\"../data/mouse_smart_data.csv\")\n",
    "        formatted_data = format_table(data)\n",
    "        pivoted_data = pivot_table(formatted_data)\n",
    "        plot = make_mouse_plot(pivoted_data)\n",
    "        pie_plot = mouse_pie_plot(formatted_data)\n",
    "    else:\n",
    "        if species == 'h':\n",
    "            data = read_data(\"../data/human_smart_data.csv\")\n",
    "            formatted_data = format_table(data)\n",
    "            pivoted_data = pivot_table(formatted_data)\n",
    "            plot = make_human_plot(pivoted_data)\n",
    "            pie_plot = human_pie_plot(formatted_data)"
   ]
  },
  {
   "cell_type": "code",
   "execution_count": null,
   "metadata": {
    "collapsed": true
   },
   "outputs": [],
   "source": []
  },
  {
   "cell_type": "code",
   "execution_count": null,
   "metadata": {
    "collapsed": true
   },
   "outputs": [],
   "source": []
  },
  {
   "cell_type": "code",
   "execution_count": null,
   "metadata": {
    "collapsed": true
   },
   "outputs": [],
   "source": []
  },
  {
   "cell_type": "code",
   "execution_count": null,
   "metadata": {
    "collapsed": true
   },
   "outputs": [],
   "source": []
  },
  {
   "cell_type": "code",
   "execution_count": null,
   "metadata": {
    "collapsed": true
   },
   "outputs": [],
   "source": []
  },
  {
   "cell_type": "code",
   "execution_count": null,
   "metadata": {
    "collapsed": true
   },
   "outputs": [],
   "source": []
  },
  {
   "cell_type": "code",
   "execution_count": null,
   "metadata": {
    "collapsed": true
   },
   "outputs": [],
   "source": []
  },
  {
   "cell_type": "code",
   "execution_count": null,
   "metadata": {
    "collapsed": true
   },
   "outputs": [],
   "source": []
  },
  {
   "cell_type": "code",
   "execution_count": null,
   "metadata": {
    "collapsed": true
   },
   "outputs": [],
   "source": []
  },
  {
   "cell_type": "code",
   "execution_count": null,
   "metadata": {
    "collapsed": true
   },
   "outputs": [],
   "source": []
  },
  {
   "cell_type": "code",
   "execution_count": null,
   "metadata": {
    "collapsed": true
   },
   "outputs": [],
   "source": []
  },
  {
   "cell_type": "code",
   "execution_count": null,
   "metadata": {
    "collapsed": true
   },
   "outputs": [],
   "source": []
  },
  {
   "cell_type": "code",
   "execution_count": null,
   "metadata": {
    "collapsed": true
   },
   "outputs": [],
   "source": []
  },
  {
   "cell_type": "code",
   "execution_count": null,
   "metadata": {
    "collapsed": true
   },
   "outputs": [],
   "source": []
  },
  {
   "cell_type": "code",
   "execution_count": null,
   "metadata": {
    "collapsed": true
   },
   "outputs": [],
   "source": []
  },
  {
   "cell_type": "code",
   "execution_count": null,
   "metadata": {
    "collapsed": true
   },
   "outputs": [],
   "source": []
  },
  {
   "cell_type": "code",
   "execution_count": null,
   "metadata": {
    "collapsed": true
   },
   "outputs": [],
   "source": []
  },
  {
   "cell_type": "code",
   "execution_count": null,
   "metadata": {
    "collapsed": true
   },
   "outputs": [],
   "source": []
  },
  {
   "cell_type": "code",
   "execution_count": null,
   "metadata": {
    "collapsed": true
   },
   "outputs": [],
   "source": []
  }
 ],
 "metadata": {
  "kernelspec": {
   "display_name": "Python 2",
   "language": "python",
   "name": "python2"
  },
  "language_info": {
   "codemirror_mode": {
    "name": "ipython",
    "version": 2
   },
   "file_extension": ".py",
   "mimetype": "text/x-python",
   "name": "python",
   "nbconvert_exporter": "python",
   "pygments_lexer": "ipython2",
   "version": "2.7.13"
  }
 },
 "nbformat": 4,
 "nbformat_minor": 2
}
