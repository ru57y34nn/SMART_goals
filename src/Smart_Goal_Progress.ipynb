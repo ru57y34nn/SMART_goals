{
 "cells": [
  {
   "cell_type": "code",
   "execution_count": 1,
   "metadata": {
    "collapsed": true
   },
   "outputs": [],
   "source": [
    "#from speedml import Speedml\n",
    "import csv\n",
    "import pandas as pd\n",
    "import  numpy as np\n",
    "import matplotlib.pyplot as plt\n",
    "from datetime import datetime, date\n",
    "from scipy import stats\n",
    "import math\n",
    "import seaborn as sns\n",
    "from collections import OrderedDict\n",
    "%matplotlib inline\n",
    "import pg8000\n",
    "import sys\n",
    "import os\n",
    "import pathlib2\n",
    "import warnings\n",
    "warnings.filterwarnings('ignore')"
   ]
  },
  {
   "cell_type": "code",
   "execution_count": 2,
   "metadata": {
    "collapsed": true
   },
   "outputs": [],
   "source": [
    "def read_data(path):\n",
    "    df = pd.read_csv(path)\n",
    "    return df"
   ]
  },
  {
   "cell_type": "code",
   "execution_count": 3,
   "metadata": {
    "collapsed": true
   },
   "outputs": [],
   "source": [
    "#This series of classifier functions could go into their own module like post_patch_funcs\n",
    "def trip_mod(df):\n",
    "    trimod = df[(df[\"anno.res_index_label\"] >= 0.75) &(df['anno.res_index_label'] < 1.1) & (df[\"63x_call\"] == \"63x go\")]\n",
    "    return trimod\n",
    "\n",
    "def dub_mod(df):\n",
    "    dubmod = df[(((df[\"anno.res_index_label\"] >= 0.75) & (df['anno.res_index_label'] < 1.1) & (df[\"63x_call\"] == \"63x no go\")) | ((df[\"anno.res_index_label\"] >=0.75) & (df[\"anno.res_index_label\"] < 1.1) & (df[\"anno.rna_amp_pass_fail_label\"] == \"Fail\")))]\n",
    "    return dubmod\n",
    "\n",
    "def morph_pend(df):\n",
    "    morphpend = df[((df[\"anno.res_index_label\"] >= 0.75) & (df[\"anno.rna_amp_pass_fail_label\"] == \"Pass\")) & (df['anno.res_index_label'] < 1.1) & (df[\"63x_call\"] == \"No look\")]\n",
    "    return morphpend\n",
    "\n",
    "def single_mod(df):\n",
    "    singlemod = df[(df[\"anno.res_index_label\"] < 0.75)]\n",
    "    return singlemod\n",
    "\n",
    "def trans_pend(df):\n",
    "    transpend = df[(df[\"anno.res_index_label\"] == 1.1)]\n",
    "    return transpend"
   ]
  },
  {
   "cell_type": "code",
   "execution_count": 4,
   "metadata": {
    "collapsed": true
   },
   "outputs": [],
   "source": [
    "def reclassify(df):\n",
    "    tri = trip_mod(df)\n",
    "    tri['modality class'] = 'Triple Modality'\n",
    "    dub = dub_mod(df)\n",
    "    dub['modality class'] = 'Double Modality'\n",
    "    morph_p = morph_pend(df)\n",
    "    morph_p['modality class'] = 'Pending Morph'\n",
    "    single = single_mod(df)\n",
    "    single['modality class'] = 'EPhys Only'\n",
    "    trans_p = trans_pend(df)\n",
    "    trans_p['modality class'] = 'Pending Trans'\n",
    "    return tri, dub, morph_p, single, trans_p"
   ]
  },
  {
   "cell_type": "code",
   "execution_count": 5,
   "metadata": {
    "collapsed": true
   },
   "outputs": [],
   "source": [
    "def concat_df(a, b, c, d, e):\n",
    "    frames = (a, b, c, d, e)\n",
    "    df = pd.concat(frames)\n",
    "    return df"
   ]
  },
  {
   "cell_type": "code",
   "execution_count": 6,
   "metadata": {
    "collapsed": true
   },
   "outputs": [],
   "source": [
    "def modality_reclass(df):\n",
    "    return concat_df(*reclassify(df))"
   ]
  },
  {
   "cell_type": "code",
   "execution_count": 7,
   "metadata": {
    "collapsed": true
   },
   "outputs": [],
   "source": [
    "def format_table(df):\n",
    "    #convert dates to datetime object\n",
    "    df['recording_date'] = pd.to_datetime(df['recording_date'], format='%Y-%m-%d')\n",
    "    df['63x_call'].fillna(\"No look\", inplace=True)\n",
    "    #setting NaN res_index values to 1.1 for classification as pending_trans\n",
    "    df['anno.res_index_label'].fillna(1.1, inplace=True)\n",
    "    df = modality_reclass(df)\n",
    "    return df"
   ]
  },
  {
   "cell_type": "code",
   "execution_count": 8,
   "metadata": {
    "collapsed": true
   },
   "outputs": [],
   "source": [
    "def pivot_table(df):\n",
    "    df = df[['recording_date', 'modality class', 'cell_name']]\n",
    "    df = df.groupby(['recording_date', 'modality class']).agg(['count'])\n",
    "    df = df.reset_index()\n",
    "    df = df.set_index(['recording_date', 'modality class']).unstack(level=-1).fillna(0).cumsum()\n",
    "    return df"
   ]
  },
  {
   "cell_type": "code",
   "execution_count": 9,
   "metadata": {
    "collapsed": true
   },
   "outputs": [],
   "source": [
    "def list_dates(df):\n",
    "    dates = sorted(tuple(df.index.unique()))\n",
    "    return dates"
   ]
  },
  {
   "cell_type": "code",
   "execution_count": 10,
   "metadata": {
    "collapsed": true
   },
   "outputs": [],
   "source": [
    "def list_outcomes(df):\n",
    "    triple_mod = tuple(df['cell_name', 'count', 'Triple Modality'])\n",
    "    double_mod = tuple(df['cell_name', 'count', 'Double Modality'])\n",
    "    ephys_only = tuple(df['cell_name', 'count', 'EPhys Only'])\n",
    "    pending_morph = tuple(df['cell_name', 'count', 'Pending Morph'])\n",
    "    pending_trans = tuple(df['cell_name', 'count', 'Pending Trans'])\n",
    "    return triple_mod, double_mod, ephys_only, pending_trans, pending_morph"
   ]
  },
  {
   "cell_type": "code",
   "execution_count": 11,
   "metadata": {
    "collapsed": true
   },
   "outputs": [],
   "source": [
    "def get_current_date(df):\n",
    "    current_date = pd.to_datetime(list_dates(df)[-1])\n",
    "    return current_date"
   ]
  },
  {
   "cell_type": "code",
   "execution_count": 12,
   "metadata": {
    "collapsed": true
   },
   "outputs": [],
   "source": [
    "def get_current_total(df):\n",
    "    total_trip, total_dub, total_ephys, total_morph_pend, total_trans_pend = list_outcomes(df)\n",
    "    totals = total_trip[-1] + total_dub[-1] + total_ephys[-1] + total_morph_pend[-1] + total_trans_pend[-1]\n",
    "    #total = triple_mod[-1] + double_mod[-1] + ephys_only[-1] + pending_morph[-1] + pending_trans[-1]\n",
    "    return totals"
   ]
  },
  {
   "cell_type": "code",
   "execution_count": 13,
   "metadata": {
    "collapsed": true
   },
   "outputs": [],
   "source": [
    "def get_current_goal(df, species):\n",
    "    mouse_goal = 3500\n",
    "    human_goal = 400\n",
    "    d0 = pd.to_datetime(list_dates(df)[0])\n",
    "    d1 = get_current_date(df)\n",
    "    d2_mouse = datetime.strptime('2018-09-30', \"%Y-%m-%d\")\n",
    "    d2_human = datetime.strptime('2018-05-15', \"%Y-%m-%d\")\n",
    "    total_mouse_days = (d2_mouse - d0).days\n",
    "    total_human_days = (d2_human - d0).days\n",
    "    total2_today = (d1 - d0).days\n",
    "    if species == 'mouse':\n",
    "        current_goal = (mouse_goal/float(total_mouse_days))*total2_today\n",
    "    else:\n",
    "        if species == 'human':\n",
    "            current_goal = (human_goal/float(total_human_days))*total2_today\n",
    "    return current_goal"
   ]
  },
  {
   "cell_type": "code",
   "execution_count": 14,
   "metadata": {
    "collapsed": true
   },
   "outputs": [],
   "source": [
    "def get_goal_delta(df, species):\n",
    "    if species == 'mouse':\n",
    "        diff = get_current_total(df) - get_current_goal(df, 'mouse')\n",
    "    else:\n",
    "        if species == 'human':\n",
    "            diff = get_current_total(df) - get_current_goal(df, 'human')\n",
    "    return diff"
   ]
  },
  {
   "cell_type": "code",
   "execution_count": 15,
   "metadata": {
    "collapsed": true
   },
   "outputs": [],
   "source": [
    "def valid_input(prompt_text, invalid_response, valid_options=None):\n",
    "    while True:\n",
    "        result = raw_input(prompt_text)\n",
    "        if (valid_options) and (result not in valid_options):\n",
    "            print invalid_response\n",
    "            continue\n",
    "        else:\n",
    "            break\n",
    "    return result"
   ]
  },
  {
   "cell_type": "code",
   "execution_count": 19,
   "metadata": {
    "collapsed": true
   },
   "outputs": [],
   "source": [
    "#May need to either make a class to inherit from for plotting mouse and human or rename this \"make_mouse_plot\"\n",
    "#and make another function called \"make_human_plot\".\n",
    "def make_mouse_plot(df):\n",
    "\n",
    "    x = list_dates(df) \n",
    "    y = list(list_outcomes(df))\n",
    "    \n",
    "    colors = [\"#08519c\", \"#3182bd\", \"#6baed6\", \"#969696\", \"#636363\"]\n",
    "    labels = [\"Triple Modality\", \"Double Modality\", \"EPhys Only\", \"Pending Trans\", \"Pending Morph\"]\n",
    "    fig, ax = plt.subplots()\n",
    "    plt.xticks(rotation=45, ha='right', size=7)\n",
    "    plt.yticks(size=7)\n",
    "    progress = ax.stackplot(x, y, labels = labels, colors=colors)\n",
    "    goal_line = ax.plot([0,1], [0,1], color='g', transform=ax.transAxes)\n",
    "    legend = ax.legend(loc=(0.05,0.9), prop = {'size':7}, frameon=False, labelspacing=-2.5)\n",
    "    #plt.gcf().autofmt_xdate()\n",
    "    \n",
    "    ax.spines['right'].set_visible(False)\n",
    "    ax.spines['top'].set_visible(False)\n",
    "    ax.set_xlim(['2018-01-02', '2018-09-30'])\n",
    "    ax.set_ylim([0, 3500])\n",
    "    ax.vlines(x='2018-09-30', ymin=0, ymax=3500, color='r')\n",
    "    \n",
    "    plt.title(\"2018 Mouse SMART Goal Progress\", size=10)\n",
    "    plt.ylabel('Patched Cells', size=10)\n",
    "    plt.xlabel('Date', size=10)\n",
    "    plt.text('2018-10-05', '3500', \"{}\".format(\"3500 cell goal\"), size=7)\n",
    "    plt.text(get_current_date(df), get_current_total(df), \"{}\".format(int(get_goal_delta(df, \"mouse\"))), size=7)\n",
    "    #plt.text('2018-10-05', '700', \"{}\".format(\"20% triple modality goal\"))\n",
    "    plt.text('2018-09-30', '-200', \"{}\".format(\"Deadline - 2018-09-30\"), rotation=45, ha='right', size=7)\n",
    "    fig.tight_layout()\n",
    "    plt.savefig('../figures/Mouse_SMART_Goal_2018_Progress', dpi=300, bbox_inches=\"tight\")"
   ]
  },
  {
   "cell_type": "code",
   "execution_count": 39,
   "metadata": {
    "collapsed": true
   },
   "outputs": [],
   "source": [
    "def make_human_plot(df):\n",
    "\n",
    "    x = list_dates(df) \n",
    "    y = list(list_outcomes(df))\n",
    "    deadline = datetime.strptime('2018-05-15', \"%Y-%m-%d\")\n",
    "    \n",
    "    colors = [\"#08519c\", \"#3182bd\", \"#6baed6\", \"#969696\", \"#636363\"]\n",
    "    labels = [\"Triple Modality\", \"Double Modality\", \"EPhys Only\", \"Pending Trans\", \"Pending Morph\"]\n",
    "    fig, ax = plt.subplots()\n",
    "    plt.xticks(rotation=45, ha='right', size=7)\n",
    "    plt.yticks(size=7)\n",
    "    progress = ax.stackplot(x, y, labels = labels, colors=colors)\n",
    "    goal_line = ax.plot([0,1], [0,1], color='g', transform=ax.transAxes)\n",
    "    legend = ax.legend(loc=(0.05,0.9), prop = {'size':7}, frameon=False, labelspacing=-2.5)\n",
    "    #plt.gcf().autofmt_xdate()\n",
    "    \n",
    "    ax.spines['right'].set_visible(False)\n",
    "    ax.spines['top'].set_visible(False)\n",
    "    ax.set_xlim(['2018-01-02', '2018-05-15'])\n",
    "    ax.set_ylim([0, 400])\n",
    "    ax.vlines(x='2018-05-15', ymin=0, ymax=400, color='r')\n",
    "    \n",
    "    plt.title(\"2018 Human SMART Goal Progress\", size=10)\n",
    "    plt.ylabel('Patched Cells', size=10)\n",
    "    plt.xlabel('Date', size=10)\n",
    "    plt.text('2018-05-15', '400', \"{}\".format(\"400 cell goal\"), size=7)\n",
    "    \n",
    "    if get_current_date(df) > deadline:\n",
    "        plt.text(deadline, get_current_total(df), \"{}\".format(int(get_goal_delta(df, \"human\"))), size=7)\n",
    "    else:\n",
    "        if deadline > get_current_date(df):\n",
    "            plt.text(get_current_date(df), get_current_total(df), \"{}\".format(int(get_goal_delta(df, \"human\"))), size=7)\n",
    "    #plt.text('2018-10-05', '700', \"{}\".format(\"20% triple modality goal\"))\n",
    "    #plt.text('2018-05-15', '-30', \"{}\".format(\"Deadline - 2018-05-15\"), rotation=45, ha='right', size=7)\n",
    "    fig.tight_layout()\n",
    "    plt.savefig('../figures/Human_SMART_Goal_2018_Progress', dpi=300, bbox_inches=\"tight\")"
   ]
  },
  {
   "cell_type": "code",
   "execution_count": 40,
   "metadata": {},
   "outputs": [
    {
     "name": "stdout",
     "output_type": "stream",
     "text": [
      "would you like to report on mouse (m) or human (h) smart goal data?:h\n"
     ]
    },
    {
     "data": {
      "image/png": "[encoded data removed]",
      "text/plain": [
       "<matplotlib.figure.Figure at 0xb90b320>"
      ]
     },
     "metadata": {},
     "output_type": "display_data"
    }
   ],
   "source": [
    "if __name__ == \"__main__\":\n",
    "    \n",
    "    str_prompt = \"\\nWould you like to report on mouse (m) or human (h) SMART goal data?: \".strip().lower()\n",
    "    valid_vals = ['m', 'h']\n",
    "    response = \"\\n{} is not a valid response, please enter either 'm' or 'h'\".format(str_prompt)\n",
    "    \n",
    "    species = valid_input(str_prompt, response, valid_vals)\n",
    "    \n",
    "    if species == 'm':\n",
    "        data = read_data(\"../data/mouse_smart_data.csv\")\n",
    "        formatted_data = format_table(data)\n",
    "        pivoted_data = pivot_table(formatted_data)\n",
    "        plot = make_mouse_plot(pivoted_data)\n",
    "    else:\n",
    "        if species == 'h':\n",
    "            data = read_data(\"../data/human_smart_data.csv\")\n",
    "            formatted_data = format_table(data)\n",
    "            pivoted_data = pivot_table(formatted_data)\n",
    "            plot = make_human_plot(pivoted_data)"
   ]
  },
  {
   "cell_type": "code",
   "execution_count": null,
   "metadata": {
    "collapsed": true
   },
   "outputs": [],
   "source": []
  },
  {
   "cell_type": "code",
   "execution_count": null,
   "metadata": {
    "collapsed": true
   },
   "outputs": [],
   "source": []
  },
  {
   "cell_type": "code",
   "execution_count": null,
   "metadata": {
    "collapsed": true
   },
   "outputs": [],
   "source": []
  },
  {
   "cell_type": "code",
   "execution_count": null,
   "metadata": {
    "collapsed": true
   },
   "outputs": [],
   "source": []
  },
  {
   "cell_type": "code",
   "execution_count": null,
   "metadata": {
    "collapsed": true
   },
   "outputs": [],
   "source": []
  },
  {
   "cell_type": "code",
   "execution_count": null,
   "metadata": {
    "collapsed": true
   },
   "outputs": [],
   "source": []
  },
  {
   "cell_type": "code",
   "execution_count": null,
   "metadata": {
    "collapsed": true
   },
   "outputs": [],
   "source": []
  },
  {
   "cell_type": "code",
   "execution_count": null,
   "metadata": {
    "collapsed": true
   },
   "outputs": [],
   "source": []
  },
  {
   "cell_type": "code",
   "execution_count": null,
   "metadata": {
    "collapsed": true
   },
   "outputs": [],
   "source": []
  },
  {
   "cell_type": "code",
   "execution_count": null,
   "metadata": {
    "collapsed": true
   },
   "outputs": [],
   "source": []
  },
  {
   "cell_type": "code",
   "execution_count": null,
   "metadata": {
    "collapsed": true
   },
   "outputs": [],
   "source": []
  },
  {
   "cell_type": "code",
   "execution_count": null,
   "metadata": {
    "collapsed": true
   },
   "outputs": [],
   "source": []
  },
  {
   "cell_type": "code",
   "execution_count": null,
   "metadata": {
    "collapsed": true
   },
   "outputs": [],
   "source": []
  },
  {
   "cell_type": "code",
   "execution_count": null,
   "metadata": {
    "collapsed": true
   },
   "outputs": [],
   "source": []
  },
  {
   "cell_type": "code",
   "execution_count": null,
   "metadata": {
    "collapsed": true
   },
   "outputs": [],
   "source": []
  },
  {
   "cell_type": "code",
   "execution_count": null,
   "metadata": {
    "collapsed": true
   },
   "outputs": [],
   "source": []
  },
  {
   "cell_type": "code",
   "execution_count": null,
   "metadata": {
    "collapsed": true
   },
   "outputs": [],
   "source": []
  },
  {
   "cell_type": "code",
   "execution_count": null,
   "metadata": {
    "collapsed": true
   },
   "outputs": [],
   "source": []
  },
  {
   "cell_type": "code",
   "execution_count": null,
   "metadata": {
    "collapsed": true
   },
   "outputs": [],
   "source": []
  }
 ],
 "metadata": {
  "kernelspec": {
   "display_name": "Python 2",
   "language": "python",
   "name": "python2"
  },
  "language_info": {
   "codemirror_mode": {
    "name": "ipython",
    "version": 2
   },
   "file_extension": ".py",
   "mimetype": "text/x-python",
   "name": "python",
   "nbconvert_exporter": "python",
   "pygments_lexer": "ipython2",
   "version": "2.7.13"
  }
 },
 "nbformat": 4,
 "nbformat_minor": 2
}
