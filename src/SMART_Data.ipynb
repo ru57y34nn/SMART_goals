{
 "cells": [
  {
   "cell_type": "code",
   "execution_count": 1,
   "metadata": {
    "collapsed": true
   },
   "outputs": [],
   "source": [
    "import csv\n",
    "import pandas as pd\n",
    "import sys\n",
    "import os\n",
    "import pathlib2\n",
    "import lims_sql_query as lsq"
   ]
  },
  {
   "cell_type": "markdown",
   "metadata": {},
   "source": [
    "# Mouse"
   ]
  },
  {
   "cell_type": "code",
   "execution_count": 159,
   "metadata": {},
   "outputs": [],
   "source": [
    "mshiny = pd.read_csv(\"../data/mouse_anno_table.csv\",\n",
    "                     usecols=[\"anno.sample_id\", \"anno.res_index_label\",\n",
    "                              \"anno.rna_amp_pass_fail_label\"])"
   ]
  },
  {
   "cell_type": "code",
   "execution_count": 160,
   "metadata": {
    "scrolled": true
   },
   "outputs": [],
   "source": [
    "#\n",
    "#mshiny = mshiny[[\"anno.sample_id\", \"anno.res_index_label\", \"anno.rna_amp_pass_fail_label\"]]\n",
    "#mshiny"
   ]
  },
  {
   "cell_type": "code",
   "execution_count": 161,
   "metadata": {
    "scrolled": true
   },
   "outputs": [],
   "source": [
    "#getting all 63x_calls from LIMS\n",
    "imgs_query = \"Select cell.name, array_to_string(array_agg(DISTINCT tag.name), '_AND_') \\\n",
    "            FROM specimens cell JOIN ephys_roi_results err on err.id = cell.ephys_roi_result_id \\\n",
    "            JOIN specimen_tags_specimens sptagsp on sptagsp.specimen_id = cell.id \\\n",
    "            JOIN specimen_tags tag on tag.id = sptagsp.specimen_tag_id and tag.id in (602120185, 602122082) \\\n",
    "            GROUP BY cell.id \\\n",
    "            ORDER BY 1\"\n",
    "imgs_df = lsq.get_lims_dataframe(imgs_query)\n",
    "#imgs_df"
   ]
  },
  {
   "cell_type": "code",
   "execution_count": 162,
   "metadata": {},
   "outputs": [],
   "source": [
    "#getting driver lines for all patch-seq cells\n",
    "lims_query1 = \"WITH reporters AS (SELECT dg.donor_id, ARRAY_TO_STRING (ARRAY_AGG (DISTINCT g.name), ' ') AS reporters \\\n",
    "            FROM donors_genotypes dg JOIN genotypes g ON dg.genotype_id = g.id \\\n",
    "            JOIN genotype_types gt ON g.genotype_type_id = gt.id \\\n",
    "            WHERE gt.name ILIKE 'reporter%' \\\n",
    "            GROUP BY dg.donor_id ), \\\n",
    "            drivers AS (SELECT dg.donor_id, ARRAY_TO_STRING (ARRAY_AGG (DISTINCT g.name), ' ') AS drivers \\\n",
    "            FROM donors_genotypes dg \\\n",
    "            JOIN genotypes g ON dg.genotype_id = g.id \\\n",
    "            JOIN genotype_types gt ON g.genotype_type_id = gt.id \\\n",
    "            WHERE gt.name ILIKE 'driver%' \\\n",
    "            GROUP BY dg.donor_id) \\\n",
    "            SELECT DISTINCT s.name AS cell_name, proj.name, proj.code, rpt.reporters, drv.drivers \\\n",
    "            FROM specimens s JOIN projects proj ON s.project_id = proj.id \\\n",
    "            LEFT JOIN reporters rpt ON s.donor_id = rpt.donor_id \\\n",
    "            LEFT JOIN drivers drv ON s.donor_id = drv.donor_id \\\n",
    "            WHERE proj.code = 'mIVSCC-MET' OR proj.code = 'hIVSCC-MET'\"\n",
    "\n",
    "#OR proj.code = 'T301' OR proj.code = 'T301x'\"\n",
    "lims_df1 = lsq.get_lims_dataframe(lims_query1)\n",
    "lims_df1 = lims_df1.drop(['name', 'reporters'], axis=1)\n",
    "#lims_df1.tail()"
   ]
  },
  {
   "cell_type": "code",
   "execution_count": 163,
   "metadata": {
    "scrolled": true
   },
   "outputs": [],
   "source": [
    "#getting all patched cell containers from LIMS\n",
    "lims_query2 = \"SELECT s.name, s.patched_cell_container \\\n",
    "            FROM specimens s \\\n",
    "            WHERE patched_cell_container != 'None'\"\n",
    "lims_df2 = lsq.get_lims_dataframe(lims_query2)\n",
    "#lims_df2.tail()"
   ]
  },
  {
   "cell_type": "code",
   "execution_count": 164,
   "metadata": {},
   "outputs": [],
   "source": [
    "#Merging driver dataframe with patched cell container dataframe\n",
    "lims_df = pd.merge(left = lims_df1, right = lims_df2, left_on = 'cell_name', right_on = 'name', how = 'right')\n",
    "#lims_df"
   ]
  },
  {
   "cell_type": "code",
   "execution_count": 165,
   "metadata": {
    "scrolled": true
   },
   "outputs": [],
   "source": [
    "#Extracting date from patched cell container becusae some recording dates are missing from LIMS\n",
    "lims_df['recording_date'] = lims_df['patched_cell_container'].str[5:11]\n",
    "#lims_df"
   ]
  },
  {
   "cell_type": "code",
   "execution_count": 166,
   "metadata": {
    "scrolled": true
   },
   "outputs": [],
   "source": [
    "#Convertine date to datetime object\n",
    "lims_df['recording_date'] = pd.to_datetime(lims_df['recording_date'], yearfirst=True, errors='coerce')\n",
    "#lims_df"
   ]
  },
  {
   "cell_type": "code",
   "execution_count": 167,
   "metadata": {
    "scrolled": true
   },
   "outputs": [],
   "source": [
    "#filter out dates prior to January 1, 2018\n",
    "lims_df = lims_df[lims_df['recording_date'] >= '2018-01-01']\n",
    "#lims_df"
   ]
  },
  {
   "cell_type": "code",
   "execution_count": 168,
   "metadata": {
    "scrolled": true
   },
   "outputs": [],
   "source": [
    "#merge lims dataframe with 63x images dataframe together - probably should get these into a single query soon\n",
    "lims = pd.merge(left = lims_df, right = imgs_df, left_on = 'name', right_on = 'name', how = 'left')\n",
    "#lims"
   ]
  },
  {
   "cell_type": "code",
   "execution_count": 169,
   "metadata": {
    "scrolled": true
   },
   "outputs": [],
   "source": [
    "#merge shiny and lims into single df\n",
    "smart_data = pd.merge(left = mshiny, right = lims, left_on = 'anno.sample_id', right_on = 'patched_cell_container', how = 'right')\n",
    "#smart_data"
   ]
  },
  {
   "cell_type": "code",
   "execution_count": 170,
   "metadata": {
    "scrolled": true
   },
   "outputs": [],
   "source": [
    "#change header from \"array_to_string\" to \"63x_call\"\n",
    "smart_data = smart_data.drop('anno.sample_id', axis=1)\n",
    "smart_data = smart_data.rename(index=str, columns={\"array_to_string\": \"63x_call\"})\n",
    "#smart_data"
   ]
  },
  {
   "cell_type": "code",
   "execution_count": 171,
   "metadata": {
    "scrolled": true
   },
   "outputs": [],
   "source": [
    "smart_data.sort_values(['recording_date', 'patched_cell_container'], ascending=[True, True])\n",
    "mouse_smart_data = smart_data.set_index('recording_date')\n",
    "#mouse_smart_data"
   ]
  },
  {
   "cell_type": "code",
   "execution_count": 172,
   "metadata": {
    "scrolled": true
   },
   "outputs": [],
   "source": [
    "#filtering out human data\n",
    "mouse_smart_data = mouse_smart_data[~mouse_smart_data['name'].astype(str).str.startswith('H1')]\n",
    "#mouse_smart_data"
   ]
  },
  {
   "cell_type": "code",
   "execution_count": 173,
   "metadata": {
    "scrolled": true
   },
   "outputs": [],
   "source": [
    "#Filtering out collaborators' samples\n",
    "mouse_smart_data = mouse_smart_data[~mouse_smart_data['patched_cell_container'].astype(str).str.startswith('PX')]\n",
    "mouse_smart_data = mouse_smart_data[~mouse_smart_data['patched_cell_container'].astype(str).str.startswith('PG')]\n",
    "mouse_smart_data = mouse_smart_data[~mouse_smart_data['patched_cell_container'].astype(str).str.startswith('PH')]\n",
    "mouse_smart_data = mouse_smart_data.drop('name', axis=1)\n",
    "mouse_smart_data = mouse_smart_data[mouse_smart_data['code'] == 'mIVSCC-MET']\n",
    "mouse_smart_data = mouse_smart_data.sort_index()\n",
    "#mouse_smart_data"
   ]
  },
  {
   "cell_type": "code",
   "execution_count": 48,
   "metadata": {},
   "outputs": [],
   "source": [
    "#full_path2 = home/\"documents\"/\"github\"/\"SMART_goals\"/\"data\"/\"mouse_smart_data.csv\"\n",
    "#full_path2 = str(full_path2)\n",
    "mouse_smart_data.to_csv(\"../data/mouse_smart_data.csv\")"
   ]
  },
  {
   "cell_type": "markdown",
   "metadata": {},
   "source": [
    "# Human"
   ]
  },
  {
   "cell_type": "code",
   "execution_count": 177,
   "metadata": {
    "scrolled": true
   },
   "outputs": [],
   "source": [
    "#home = pathlib2.Path.home()\n",
    "#full_path = home/\"documents\"/\"github\"/\"SMART_goals\"/\"data\"/\"human_anno_table.csv\"\n",
    "#full_path = str(full_path)\n",
    "#full_path\n",
    "hshiny = pd.read_csv(\"../data/human_anno_table.csv\",\n",
    "                     usecols=[\"anno.sample_id\", \"anno.res_index_label\",\n",
    "                              \"anno.rna_amplification_pass_fail_label\", \"anno.roi_label\"])\n",
    "#hshiny"
   ]
  },
  {
   "cell_type": "code",
   "execution_count": 175,
   "metadata": {
    "scrolled": true
   },
   "outputs": [],
   "source": [
    "#hshiny = hshiny[[\"anno.sample_id\", \"anno.res_index_label\",\n",
    "#                 \"anno.rna_amplification_pass_fail_label\", \"anno.roi_label\"]]\n",
    "#hshiny"
   ]
  },
  {
   "cell_type": "code",
   "execution_count": 178,
   "metadata": {
    "scrolled": true
   },
   "outputs": [],
   "source": [
    "hsmart_data = pd.merge(left = hshiny, right = lims, left_on = 'anno.sample_id', right_on = 'patched_cell_container', how = 'right')\n",
    "#hsmart_data"
   ]
  },
  {
   "cell_type": "code",
   "execution_count": 179,
   "metadata": {
    "scrolled": true
   },
   "outputs": [],
   "source": [
    "#change header from \"array_to_string\" to \"63x_cal\"\n",
    "hsmart_data = hsmart_data.drop('anno.sample_id', axis=1)\n",
    "hsmart_data = hsmart_data.rename(index=str, columns={\"array_to_string\": \"63x_call\"})\n",
    "#hsmart_data"
   ]
  },
  {
   "cell_type": "code",
   "execution_count": 180,
   "metadata": {
    "collapsed": true
   },
   "outputs": [],
   "source": [
    "#This is incorrect layer information\n",
    "hsmart_data['layer'] = hsmart_data['anno.roi_label'].str[-1:]"
   ]
  },
  {
   "cell_type": "code",
   "execution_count": 181,
   "metadata": {
    "scrolled": true
   },
   "outputs": [],
   "source": [
    "#smart_data['recording date'] = smart_data['recording date'].dt.date\n",
    "hsmart_data.sort_values(['recording_date', 'patched_cell_container'], ascending=[True, True])\n",
    "human_smart_data = hsmart_data.set_index('recording_date')\n",
    "human_smart_data = human_smart_data.drop('anno.roi_label', axis=1)\n",
    "#human_smart_data"
   ]
  },
  {
   "cell_type": "code",
   "execution_count": 182,
   "metadata": {
    "scrolled": true
   },
   "outputs": [],
   "source": [
    "human_smart_data = human_smart_data[human_smart_data['name'].astype(str).str.startswith('H1')]\n",
    "#human_smart_data"
   ]
  },
  {
   "cell_type": "code",
   "execution_count": 183,
   "metadata": {
    "scrolled": true
   },
   "outputs": [],
   "source": [
    "#Filtering out collaborators' samples\n",
    "human_smart_data = human_smart_data[~human_smart_data['patched_cell_container'].astype(str).str.startswith('PX')]\n",
    "human_smart_data = human_smart_data[~human_smart_data['patched_cell_container'].astype(str).str.startswith('PG')]\n",
    "human_smart_data = human_smart_data[~human_smart_data['patched_cell_container'].astype(str).str.startswith('PH')]\n",
    "#human_smart_data"
   ]
  },
  {
   "cell_type": "code",
   "execution_count": 58,
   "metadata": {
    "collapsed": true
   },
   "outputs": [],
   "source": [
    "#full_path2 = home/\"documents\"/\"github\"/\"SMART_goals\"/\"data\"/\"human_smart_data.csv\"\n",
    "#full_path2 = str(full_path2)\n",
    "human_smart_data.to_csv(\"../data/human_smart_data.csv\")"
   ]
  },
  {
   "cell_type": "code",
   "execution_count": null,
   "metadata": {
    "collapsed": true
   },
   "outputs": [],
   "source": []
  }
 ],
 "metadata": {
  "kernelspec": {
   "display_name": "Python 2",
   "language": "python",
   "name": "python2"
  },
  "language_info": {
   "codemirror_mode": {
    "name": "ipython",
    "version": 2
   },
   "file_extension": ".py",
   "mimetype": "text/x-python",
   "name": "python",
   "nbconvert_exporter": "python",
   "pygments_lexer": "ipython2",
   "version": "2.7.13"
  }
 },
 "nbformat": 4,
 "nbformat_minor": 2
}
